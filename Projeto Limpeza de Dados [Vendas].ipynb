{
 "cells": [
  {
   "cell_type": "code",
   "execution_count": null,
   "id": "2831e1c1",
   "metadata": {},
   "outputs": [],
   "source": [
    "## Projeto previsão de vendas ##"
   ]
  },
  {
   "cell_type": "code",
   "execution_count": null,
   "id": "2eaf4b8c",
   "metadata": {},
   "outputs": [],
   "source": [
    "import pandas as pd"
   ]
  },
  {
   "cell_type": "code",
   "execution_count": null,
   "id": "58830527",
   "metadata": {},
   "outputs": [],
   "source": [
    "df = pd.read_csv('C:/Users/weber/Documents/train.csv')"
   ]
  },
  {
   "cell_type": "code",
   "execution_count": null,
   "id": "afe8ca18",
   "metadata": {
    "scrolled": true
   },
   "outputs": [],
   "source": [
    "df.describe()"
   ]
  },
  {
   "cell_type": "code",
   "execution_count": null,
   "id": "c0a2bc05",
   "metadata": {
    "scrolled": true
   },
   "outputs": [],
   "source": [
    "## Verifica Null\n",
    "df.isnull().sum()\n",
    "df.info()"
   ]
  },
  {
   "cell_type": "code",
   "execution_count": null,
   "id": "929fe6cc",
   "metadata": {},
   "outputs": [],
   "source": [
    "## Tratar os valores Null\n",
    "df = df.dropna()\n",
    "## Verifica Null\n",
    "df.isnull().sum()"
   ]
  },
  {
   "cell_type": "code",
   "execution_count": null,
   "id": "e0b26927",
   "metadata": {
    "scrolled": true
   },
   "outputs": [],
   "source": [
    "## Obter amostra aleatória dos dados\n",
    "df.sample(5)"
   ]
  },
  {
   "cell_type": "code",
   "execution_count": null,
   "id": "969020f3",
   "metadata": {
    "scrolled": true
   },
   "outputs": [],
   "source": [
    "## Remover Colunas Desnecessárias\n",
    "df.drop(['Row ID','Order ID','Customer ID','Customer Name'],axis=1,inplace=True)\n",
    "df.head()"
   ]
  },
  {
   "cell_type": "code",
   "execution_count": null,
   "id": "4634c906",
   "metadata": {},
   "outputs": [],
   "source": [
    "## Verifica e remove valores duplicados\n",
    "df.drop_duplicates(inplace=True)"
   ]
  },
  {
   "cell_type": "code",
   "execution_count": null,
   "id": "788cf886",
   "metadata": {
    "scrolled": true
   },
   "outputs": [],
   "source": [
    "## Transformar as colunas de data no tipo data\n",
    "df['Order Date']=pd.to_datetime(df['Order Date'])\n",
    "df['Ship Date']=pd.to_datetime(df['Ship Date'])"
   ]
  },
  {
   "cell_type": "code",
   "execution_count": null,
   "id": "9df90d37",
   "metadata": {},
   "outputs": [],
   "source": [
    "## Gravar arquivo em disco\n",
    "df.to_csv('trainLimpo.csv')"
   ]
  }
 ],
 "metadata": {
  "kernelspec": {
   "display_name": "Python 3 (ipykernel)",
   "language": "python",
   "name": "python3"
  },
  "language_info": {
   "codemirror_mode": {
    "name": "ipython",
    "version": 3
   },
   "file_extension": ".py",
   "mimetype": "text/x-python",
   "name": "python",
   "nbconvert_exporter": "python",
   "pygments_lexer": "ipython3",
   "version": "3.9.13"
  }
 },
 "nbformat": 4,
 "nbformat_minor": 5
}
